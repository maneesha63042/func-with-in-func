{
 "cells": [
  {
   "cell_type": "code",
   "execution_count": 1,
   "id": "c4cd5265-3744-48e2-b338-9168d13d5510",
   "metadata": {},
   "outputs": [
    {
     "name": "stdout",
     "output_type": "stream",
     "text": [
      "this is a outer function..........\n",
      "this is a inner function..........\n"
     ]
    }
   ],
   "source": [
    "def outer():\n",
    "    print(\"this is a outer function..........\")\n",
    "    def inner():\n",
    "        print(\"this is a inner function..........\")\n",
    "    inner()\n",
    "outer()"
   ]
  },
  {
   "cell_type": "code",
   "execution_count": 12,
   "id": "304f70ea-d20a-4c24-a6c6-f9c73d346ca6",
   "metadata": {},
   "outputs": [
    {
     "name": "stdin",
     "output_type": "stream",
     "text": [
      "enter a number 5\n",
      "enter a number 7\n"
     ]
    },
    {
     "name": "stdout",
     "output_type": "stream",
     "text": [
      "addition 12\n",
      "subtraction -2\n",
      "product 35\n"
     ]
    }
   ],
   "source": [
    "def cal(a,b):\n",
    "    def add():\n",
    "        return a+b\n",
    "    def sub():\n",
    "        return a-b\n",
    "    def mul():\n",
    "        return a*b\n",
    "    print(\"addition\",add())\n",
    "    print(\"subtraction\",sub())\n",
    "    print(\"product\",mul())\n",
    "a=int(input(\"enter a number\"))      \n",
    "b=int(input(\"enter a number\"))\n",
    "cal(a,b)      \n",
    "      "
   ]
  },
  {
   "cell_type": "code",
   "execution_count": null,
   "id": "482c5ffe-2d65-4188-a3df-44ab5aba2ccc",
   "metadata": {},
   "outputs": [],
   "source": []
  },
  {
   "cell_type": "code",
   "execution_count": null,
   "id": "11456c85-31ee-4d0d-b479-ea329294011d",
   "metadata": {},
   "outputs": [],
   "source": []
  }
 ],
 "metadata": {
  "kernelspec": {
   "display_name": "Python 3 (ipykernel)",
   "language": "python",
   "name": "python3"
  },
  "language_info": {
   "codemirror_mode": {
    "name": "ipython",
    "version": 3
   },
   "file_extension": ".py",
   "mimetype": "text/x-python",
   "name": "python",
   "nbconvert_exporter": "python",
   "pygments_lexer": "ipython3",
   "version": "3.12.7"
  }
 },
 "nbformat": 4,
 "nbformat_minor": 5
}
